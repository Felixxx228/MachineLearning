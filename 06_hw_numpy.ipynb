{
  "cells": [
    {
      "cell_type": "markdown",
      "metadata": {
        "id": "view-in-github",
        "colab_type": "text"
      },
      "source": [
        "<a href=\"https://colab.research.google.com/github/Felixxx228/MachineLearning/blob/main/06_hw_numpy.ipynb\" target=\"_parent\"><img src=\"https://colab.research.google.com/assets/colab-badge.svg\" alt=\"Open In Colab\"/></a>"
      ]
    },
    {
      "cell_type": "markdown",
      "metadata": {
        "id": "LUeS4jy3KUeN"
      },
      "source": [
        "# Домашняя работа. Numpy\n",
        "\n",
        "1. Скачайте этот ноутбук к себе.\n",
        "2. Заполните пропущенные ячейки, отвечая на заданные вопросы. Там должен быть код! (если не сказано обратное)\n",
        "3. Сохраните результат в своём гитхаб репозитории.\n",
        "\n",
        "#### Полезная литература\n",
        "\n",
        "- http://www.numpy.org/\n",
        "- https://jakevdp.github.io/PythonDataScienceHandbook/02.00-introduction-to-numpy.html\n",
        "- https://docs.scipy.org/doc/numpy/user/quickstart.html"
      ]
    },
    {
      "cell_type": "markdown",
      "metadata": {
        "id": "aeiwf_gsKUeT"
      },
      "source": [
        "1) Импортировать numpy и написать версию"
      ]
    },
    {
      "cell_type": "code",
      "execution_count": 1,
      "metadata": {
        "id": "ub9rJAsXKUeV"
      },
      "outputs": [],
      "source": [
        "import numpy as np"
      ]
    },
    {
      "cell_type": "markdown",
      "metadata": {
        "id": "z-ucCQt4KUeW"
      },
      "source": [
        "2) Создать нулевой вектор размера 10"
      ]
    },
    {
      "cell_type": "code",
      "execution_count": 2,
      "metadata": {
        "colab": {
          "base_uri": "https://localhost:8080/"
        },
        "id": "x3GxJo97KUeX",
        "outputId": "64a49b1a-0ac0-47b0-87ab-26140ce8928b"
      },
      "outputs": [
        {
          "output_type": "execute_result",
          "data": {
            "text/plain": [
              "array([0., 0., 0., 0., 0., 0., 0., 0., 0., 0.])"
            ]
          },
          "metadata": {},
          "execution_count": 2
        }
      ],
      "source": [
        "np.zeros(10)"
      ]
    },
    {
      "cell_type": "markdown",
      "metadata": {
        "id": "vN20ewArKUeX"
      },
      "source": [
        "3) Создать вектор заполненный 7-ами размера 7"
      ]
    },
    {
      "cell_type": "code",
      "execution_count": 3,
      "metadata": {
        "colab": {
          "base_uri": "https://localhost:8080/"
        },
        "id": "XWH12g77KUeY",
        "outputId": "33b1c609-5dee-4a7b-cbf0-4dbe3371e694"
      },
      "outputs": [
        {
          "output_type": "execute_result",
          "data": {
            "text/plain": [
              "array([7, 7, 7, 7, 7, 7, 7])"
            ]
          },
          "metadata": {},
          "execution_count": 3
        }
      ],
      "source": [
        "np.full((7),7)"
      ]
    },
    {
      "cell_type": "markdown",
      "metadata": {
        "id": "PHlgoOYDKUeZ"
      },
      "source": [
        "4) Создать вектор заполненный четными числами от 10 до 100"
      ]
    },
    {
      "cell_type": "code",
      "execution_count": 4,
      "metadata": {
        "colab": {
          "base_uri": "https://localhost:8080/"
        },
        "id": "BCdn6gS6KUea",
        "outputId": "155b22fb-1bf0-4a34-9fd8-b3dae02cce85"
      },
      "outputs": [
        {
          "output_type": "stream",
          "name": "stdout",
          "text": [
            "[ 10  12  14  16  18  20  22  24  26  28  30  32  34  36  38  40  42  44\n",
            "  46  48  50  52  54  56  58  60  62  64  66  68  70  72  74  76  78  80\n",
            "  82  84  86  88  90  92  94  96  98 100]\n"
          ]
        }
      ],
      "source": [
        "arr = np.arange(102)\n",
        "print(arr[10:102:2])"
      ]
    },
    {
      "cell_type": "markdown",
      "metadata": {
        "id": "Q8vwnNz6KUeb"
      },
      "source": [
        "5) Создать массив случайных чисел и развернуть его задом наперёд"
      ]
    },
    {
      "cell_type": "code",
      "execution_count": 5,
      "metadata": {
        "colab": {
          "base_uri": "https://localhost:8080/"
        },
        "id": "B7ovKr8uKUec",
        "outputId": "199da10a-c9cf-4828-c238-682cea8fd987"
      },
      "outputs": [
        {
          "output_type": "stream",
          "name": "stdout",
          "text": [
            "[ 2  4  4 11  5 11 16  1  1 11]\n"
          ]
        }
      ],
      "source": [
        "arr = np.random.randint(0,20, 10)\n",
        "print(arr[::-1])"
      ]
    },
    {
      "cell_type": "markdown",
      "metadata": {
        "id": "4R8MpQRBKUed"
      },
      "source": [
        "6) Создать двумерную матрицу размера 3 на 3, заполненную числами от 0 до 9"
      ]
    },
    {
      "cell_type": "code",
      "execution_count": 6,
      "metadata": {
        "colab": {
          "base_uri": "https://localhost:8080/"
        },
        "id": "tibYYDX7KUed",
        "outputId": "1a769f2f-c466-46ed-a132-7a0f7e1f015e"
      },
      "outputs": [
        {
          "output_type": "stream",
          "name": "stdout",
          "text": [
            "[[0 1 2]\n",
            " [3 4 5]\n",
            " [6 7 8]]\n"
          ]
        }
      ],
      "source": [
        "arr = np.arange(9)\n",
        "arr = arr.reshape(3,3)\n",
        "print(arr)"
      ]
    },
    {
      "cell_type": "markdown",
      "metadata": {
        "id": "Qtt5ISNTKUee"
      },
      "source": [
        "7) Создать матрицу размера 4 на 4 с единицами на диагонали смещеной на один наверх."
      ]
    },
    {
      "cell_type": "code",
      "execution_count": 7,
      "metadata": {
        "colab": {
          "base_uri": "https://localhost:8080/"
        },
        "id": "MkFM_FFaKUee",
        "outputId": "648f67a4-782d-480c-bfb0-72dcdbed2d56"
      },
      "outputs": [
        {
          "output_type": "stream",
          "name": "stdout",
          "text": [
            "[[0. 1. 0. 0.]\n",
            " [0. 0. 1. 0.]\n",
            " [0. 0. 0. 1.]\n",
            " [0. 0. 0. 0.]]\n"
          ]
        }
      ],
      "source": [
        "arr = np.eye(4, k=1)\n",
        "print(arr)"
      ]
    },
    {
      "cell_type": "markdown",
      "metadata": {
        "id": "1QJmZR3pKUef"
      },
      "source": [
        "8) Создать матрицу с числами в диапазоне от 1 до 4 по диагонали. В других ячейках матрицы должны быть семерки."
      ]
    },
    {
      "cell_type": "code",
      "execution_count": 8,
      "metadata": {
        "colab": {
          "base_uri": "https://localhost:8080/"
        },
        "id": "za-t4qdmKUef",
        "outputId": "5f017f81-60d0-473e-d5ce-43e3503844bc"
      },
      "outputs": [
        {
          "output_type": "stream",
          "name": "stdout",
          "text": [
            "[[7 7 7 7]\n",
            " [7 7 7 7]\n",
            " [7 7 7 7]\n",
            " [7 7 7 7]]\n"
          ]
        }
      ],
      "source": [
        "arr = np.full((4,4) ,7)\n",
        "\n",
        "print(arr)"
      ]
    },
    {
      "cell_type": "markdown",
      "metadata": {
        "id": "LCPVy4qqKUeg"
      },
      "source": [
        "9) Создать матрицу размера 5 на 5 заполненную чилами от 0 до 4 в строках."
      ]
    },
    {
      "cell_type": "code",
      "execution_count": 10,
      "metadata": {
        "colab": {
          "base_uri": "https://localhost:8080/"
        },
        "id": "gM3rJmBqKUeg",
        "outputId": "ea4753b9-12fd-45b3-c6d7-12daceee0337"
      },
      "outputs": [
        {
          "output_type": "stream",
          "name": "stdout",
          "text": [
            "[[0. 1. 2. 3. 4.]\n",
            " [0. 1. 2. 3. 4.]\n",
            " [0. 1. 2. 3. 4.]\n",
            " [0. 1. 2. 3. 4.]\n",
            " [0. 1. 2. 3. 4.]]\n"
          ]
        }
      ],
      "source": [
        "import numpy as np\n",
        "\n",
        "arr = np.zeros((5,5))\n",
        "arr += np.arange(5)\n",
        "\n",
        "print(arr)"
      ]
    },
    {
      "cell_type": "markdown",
      "metadata": {
        "id": "hSjo9oZmKUeh"
      },
      "source": [
        "10) Создать матрицу случайных чисел размера 10 на 10 и отнять среднее по строкам из каждого элемента строки"
      ]
    },
    {
      "cell_type": "code",
      "execution_count": 9,
      "metadata": {
        "colab": {
          "base_uri": "https://localhost:8080/"
        },
        "id": "Z0fnXH6DKUeh",
        "outputId": "ed9ca49e-8abc-456f-de2f-6831fb242d92"
      },
      "outputs": [
        {
          "output_type": "stream",
          "name": "stdout",
          "text": [
            "[[45  9 15 86 95 97 10 51 68 55]\n",
            " [99 45 21 75 14 11 31 32 69 80]\n",
            " [75  5 44 43 84 24 87  8 27 83]\n",
            " [85 98 14 16 58  5 15  4 75 30]\n",
            " [23 52 17 28 16 81 61 53 37 80]\n",
            " [93 73  3 70 47 24 44 17 54 17]\n",
            " [26 21 47 86 97  4  8 77 41  0]\n",
            " [78  2 12 64 44 57 33 52 14 75]\n",
            " [56 82 53 42 26 82 62 29  3 24]\n",
            " [85 44 68  9 57 71 35 89 83 77]]\n",
            "[[ -8.1 -44.1 -38.1  32.9  41.9  43.9 -43.1  -2.1  14.9   1.9]\n",
            " [ 51.3  -2.7 -26.7  27.3 -33.7 -36.7 -16.7 -15.7  21.3  32.3]\n",
            " [ 27.  -43.   -4.   -5.   36.  -24.   39.  -40.  -21.   35. ]\n",
            " [ 45.   58.  -26.  -24.   18.  -35.  -25.  -36.   35.  -10. ]\n",
            " [-21.8   7.2 -27.8 -16.8 -28.8  36.2  16.2   8.2  -7.8  35.2]\n",
            " [ 48.8  28.8 -41.2  25.8   2.8 -20.2  -0.2 -27.2   9.8 -27.2]\n",
            " [-14.7 -19.7   6.3  45.3  56.3 -36.7 -32.7  36.3   0.3 -40.7]\n",
            " [ 34.9 -41.1 -31.1  20.9   0.9  13.9 -10.1   8.9 -29.1  31.9]\n",
            " [ 10.1  36.1   7.1  -3.9 -19.9  36.1  16.1 -16.9 -42.9 -21.9]\n",
            " [ 23.2 -17.8   6.2 -52.8  -4.8   9.2 -26.8  27.2  21.2  15.2]]\n"
          ]
        }
      ],
      "source": [
        "arr = np.random.randint(0, 100, size=(10, 10))\n",
        "print(arr)\n",
        "average = np.mean(arr, axis = 1)\n",
        "center = arr - average[:, np.newaxis]\n",
        "print(center)"
      ]
    },
    {
      "cell_type": "markdown",
      "metadata": {
        "id": "JH4rTFJyKUei"
      },
      "source": [
        "11) Создать матрицу случайных чисел размера 10 на 10 и отнять медиану по столбцам из каждого элемента столбца  "
      ]
    },
    {
      "cell_type": "code",
      "execution_count": 11,
      "metadata": {
        "colab": {
          "base_uri": "https://localhost:8080/"
        },
        "id": "jIjvdyxAKUei",
        "outputId": "c5a7ab75-d94b-420c-90ee-e38786b71ec1"
      },
      "outputs": [
        {
          "output_type": "stream",
          "name": "stdout",
          "text": [
            "[[29 43 24  9  7 10 87 79 35 57]\n",
            " [36 71 47 55 65 88 27 92  4 86]\n",
            " [26 73 30 15  0 52 37 52 69 26]\n",
            " [46 48 48 58 24 51  5  7 24 23]\n",
            " [29 56 43 19 38 50 15 72 12 13]\n",
            " [45 20 43  1 18 36 10  4 44  6]\n",
            " [45 83 96 27 70 11 87 42  7 29]\n",
            " [ 1 52 34 95 23 93 47 95 60 78]\n",
            " [ 5 82 62  2 68 22 61  9 34 94]\n",
            " [ 9 71 34 73 18 58 18 62 16 81]]\n",
            "[[  0.   14.   -5.  -20.  -22.  -19.   58.   50.    6.   28. ]\n",
            " [-27.5   7.5 -16.5  -8.5   1.5  24.5 -36.5  28.5 -59.5  22.5]\n",
            " [-17.   30.  -13.  -28.  -43.    9.   -6.    9.   26.  -17. ]\n",
            " [ 23.   25.   25.   35.    1.   28.  -18.  -16.    1.    0. ]\n",
            " [  5.5  32.5  19.5  -4.5  14.5  26.5  -8.5  48.5 -11.5 -10.5]\n",
            " [ -5.5 -30.5  -7.5 -49.5 -32.5 -14.5 -40.5 -46.5  -6.5 -44.5]\n",
            " [ 13.   51.   64.   -5.   38.  -21.   55.   10.  -25.   -3. ]\n",
            " [-56.   -5.  -23.   38.  -34.   36.  -10.   38.    3.   21. ]\n",
            " [-24.   53.   33.  -27.   39.   -7.   32.  -20.    5.   65. ]\n",
            " [-34.   28.   -9.   30.  -25.   15.  -25.   19.  -27.   38. ]]\n"
          ]
        }
      ],
      "source": [
        "arr = np.random.randint(0, 100, size = (10,10))\n",
        "print(arr)\n",
        "\n",
        "median = np.median(arr, axis = 0)\n",
        "every = arr - median[:, np.newaxis]\n",
        "print(every)"
      ]
    },
    {
      "cell_type": "markdown",
      "metadata": {
        "id": "4W9lnsvBKUei"
      },
      "source": [
        "12) Создать матрицу случайных чисел 5x5. Добавить к ней столбецы максимумов и минимумов по строкам. Получится матрица 5x7.  "
      ]
    },
    {
      "cell_type": "code",
      "execution_count": 12,
      "metadata": {
        "colab": {
          "base_uri": "https://localhost:8080/"
        },
        "id": "_OvBoTHsKUei",
        "outputId": "42f2688f-a8f6-42fc-b324-b8150af4f94f"
      },
      "outputs": [
        {
          "output_type": "stream",
          "name": "stdout",
          "text": [
            "[[61 13 61 63 17]\n",
            " [60 20  4 81 16]\n",
            " [96 32 86 57 57]\n",
            " [57 10 10 44 28]\n",
            " [95 45 51 39 58]]\n",
            "[[61 13 61 63 17 63 13]\n",
            " [60 20  4 81 16 81  4]\n",
            " [96 32 86 57 57 96 32]\n",
            " [57 10 10 44 28 57 10]\n",
            " [95 45 51 39 58 95 39]]\n"
          ]
        }
      ],
      "source": [
        "matrix = np.random.randint(0, 100, size = (5, 5))\n",
        "print(matrix)\n",
        "\n",
        "max_value = np.max(matrix, axis = 1)\n",
        "min_value = np.min(matrix, axis = 1)\n",
        "\n",
        "with_max = np.column_stack((matrix, max_value))\n",
        "final = np.column_stack((with_max, min_value))\n",
        "print(final)"
      ]
    },
    {
      "cell_type": "markdown",
      "metadata": {
        "id": "fie0vpl9KUej"
      },
      "source": [
        "13) Вектор чисел от 1 до 51 преобразовать в вектор нечетных чисел и в вектор четных чисел, поменять их размерности, чтобы получились две матрица. Найти произведение этих матриц. Найти обратную матрицу эётого произведения.  "
      ]
    },
    {
      "cell_type": "code",
      "execution_count": 13,
      "metadata": {
        "colab": {
          "base_uri": "https://localhost:8080/"
        },
        "id": "KA83O--AKUej",
        "outputId": "a5402df6-0e07-4141-b412-0267e8365df3"
      },
      "outputs": [
        {
          "output_type": "stream",
          "name": "stdout",
          "text": [
            "[[ 1  3  5  7  9 11 13 15 17 19 21 23 25 27 29 31 33 35 37 39 41 43 45 47\n",
            "  49]]\n",
            "[[ 2  4  6  8 10 12 14 16 18 20 22 24 26 28 30 32 34 36 38 40 42 44 46 48\n",
            "  50]]\n",
            "[[   2   12   30   56   90  132  182  240  306  380  462  552  650  756\n",
            "   870  992 1122 1260 1406 1560 1722 1892 2070 2256 2450]]\n"
          ]
        }
      ],
      "source": [
        "vector = np.arange(1, 51)\n",
        "\n",
        "chet = vector[vector % 2 != 0]\n",
        "nechet = vector[vector % 2 == 0]\n",
        "\n",
        "chet_matrix = np.array([chet])\n",
        "nechet_matrix = np.array([nechet])\n",
        "\n",
        "print(chet_matrix)\n",
        "print(nechet_matrix)\n",
        "\n",
        "perem_matrix = chet_matrix * nechet_matrix\n",
        "print(perem_matrix)"
      ]
    },
    {
      "cell_type": "markdown",
      "metadata": {
        "id": "8oQfLSCzKUej"
      },
      "source": [
        "14) Создать 8x8 матрицу и заполнить её в шахматном порядке нулями и единицами."
      ]
    },
    {
      "cell_type": "code",
      "execution_count": 14,
      "metadata": {
        "colab": {
          "base_uri": "https://localhost:8080/"
        },
        "id": "nVMVlbx6KUel",
        "outputId": "4ef05068-c7bb-41c5-cb59-00580e9e99ee"
      },
      "outputs": [
        {
          "output_type": "stream",
          "name": "stdout",
          "text": [
            "[[1. 0. 1. 0. 1. 0. 1. 0.]\n",
            " [0. 1. 0. 1. 0. 1. 0. 1.]\n",
            " [1. 0. 1. 0. 1. 0. 1. 0.]\n",
            " [0. 1. 0. 1. 0. 1. 0. 1.]\n",
            " [1. 0. 1. 0. 1. 0. 1. 0.]\n",
            " [0. 1. 0. 1. 0. 1. 0. 1.]\n",
            " [1. 0. 1. 0. 1. 0. 1. 0.]\n",
            " [0. 1. 0. 1. 0. 1. 0. 1.]]\n"
          ]
        }
      ],
      "source": [
        "matrix = np.zeros((8,8))\n",
        "\n",
        "for i in range(8):\n",
        "  for j in range(8):\n",
        "    if (i + j) % 2 == 0:\n",
        "        matrix[i, j] = 1\n",
        "    else:\n",
        "      matrix[i, j] = 0\n",
        "\n",
        "print(matrix)"
      ]
    }
  ],
  "metadata": {
    "kernelspec": {
      "display_name": "Python 3 (ipykernel)",
      "language": "python",
      "name": "python3"
    },
    "language_info": {
      "codemirror_mode": {
        "name": "ipython",
        "version": 3
      },
      "file_extension": ".py",
      "mimetype": "text/x-python",
      "name": "python",
      "nbconvert_exporter": "python",
      "pygments_lexer": "ipython3",
      "version": "3.12.4"
    },
    "colab": {
      "provenance": [],
      "include_colab_link": true
    }
  },
  "nbformat": 4,
  "nbformat_minor": 0
}